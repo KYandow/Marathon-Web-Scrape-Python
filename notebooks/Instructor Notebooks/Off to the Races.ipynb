{
 "cells": [
  {
   "cell_type": "code",
   "execution_count": 10,
   "metadata": {},
   "outputs": [],
   "source": [
    "import requests\n",
    "from bs4 import BeautifulSoup as bs\n",
    "import pandas as pd"
   ]
  },
  {
   "cell_type": "code",
   "execution_count": 43,
   "metadata": {},
   "outputs": [
    {
     "name": "stdout",
     "output_type": "stream",
     "text": [
      "pulled 2016 True\n",
      "pulled 2016 False\n",
      "pulled 2017 True\n",
      "pulled 2017 False\n",
      "pulled 2018 True\n",
      "pulled 2018 False\n",
      "pulled 2019 True\n",
      "pulled 2019 False\n"
     ]
    },
    {
     "ename": "TypeError",
     "evalue": "unsupported operand type(s) for +: 'int' and 'str'",
     "output_type": "error",
     "traceback": [
      "\u001b[1;31m---------------------------------------------------------------------------\u001b[0m",
      "\u001b[1;31mTypeError\u001b[0m                                 Traceback (most recent call last)",
      "\u001b[1;32m<ipython-input-43-4f277ed0da02>\u001b[0m in \u001b[0;36m<module>\u001b[1;34m\u001b[0m\n\u001b[0;32m     20\u001b[0m     \u001b[0mfulls\u001b[0m\u001b[1;33m.\u001b[0m\u001b[0mappend\u001b[0m\u001b[1;33m(\u001b[0m\u001b[0mpull_nash_marathon_data\u001b[0m\u001b[1;33m(\u001b[0m\u001b[0mis_full\u001b[0m\u001b[1;33m=\u001b[0m\u001b[1;32mTrue\u001b[0m\u001b[1;33m,\u001b[0m \u001b[0mcity\u001b[0m\u001b[1;33m=\u001b[0m\u001b[1;34m'Nashville'\u001b[0m\u001b[1;33m,\u001b[0m \u001b[0myear\u001b[0m\u001b[1;33m=\u001b[0m\u001b[0mstr\u001b[0m\u001b[1;33m(\u001b[0m\u001b[0myr\u001b[0m\u001b[1;33m)\u001b[0m\u001b[1;33m)\u001b[0m\u001b[1;33m)\u001b[0m\u001b[1;33m\u001b[0m\u001b[1;33m\u001b[0m\u001b[0m\n\u001b[0;32m     21\u001b[0m     \u001b[0mhalves\u001b[0m\u001b[1;33m.\u001b[0m\u001b[0mappend\u001b[0m\u001b[1;33m(\u001b[0m\u001b[0mpull_nash_marathon_data\u001b[0m\u001b[1;33m(\u001b[0m\u001b[0mis_full\u001b[0m\u001b[1;33m=\u001b[0m\u001b[1;32mFalse\u001b[0m\u001b[1;33m,\u001b[0m \u001b[0mcity\u001b[0m\u001b[1;33m=\u001b[0m\u001b[1;34m'Nashville'\u001b[0m\u001b[1;33m,\u001b[0m \u001b[0myear\u001b[0m\u001b[1;33m=\u001b[0m\u001b[0mstr\u001b[0m\u001b[1;33m(\u001b[0m\u001b[0myr\u001b[0m\u001b[1;33m)\u001b[0m\u001b[1;33m)\u001b[0m\u001b[1;33m)\u001b[0m\u001b[1;33m\u001b[0m\u001b[1;33m\u001b[0m\u001b[0m\n\u001b[1;32m---> 22\u001b[1;33m \u001b[0mprint\u001b[0m\u001b[1;33m(\u001b[0m\u001b[0mlen\u001b[0m\u001b[1;33m(\u001b[0m\u001b[0mfulls\u001b[0m\u001b[1;33m)\u001b[0m \u001b[1;33m+\u001b[0m \u001b[1;34m' '\u001b[0m \u001b[1;33m+\u001b[0m \u001b[0mlen\u001b[0m\u001b[1;33m(\u001b[0m\u001b[0mhalves\u001b[0m\u001b[1;33m)\u001b[0m\u001b[1;33m)\u001b[0m\u001b[1;33m\u001b[0m\u001b[1;33m\u001b[0m\u001b[0m\n\u001b[0m\u001b[0;32m     23\u001b[0m \u001b[1;33m\u001b[0m\u001b[0m\n",
      "\u001b[1;31mTypeError\u001b[0m: unsupported operand type(s) for +: 'int' and 'str'"
     ]
    }
   ],
   "source": [
    "def pull_nash_marathon_data(is_full=True, city='Nashville', year='2019'):\n",
    "    full_in = '' if is_full else 'Half-'\n",
    "    URL = 'https://www.runrocknroll.com/Events/' + city + '/The-Races/' + full_in + 'Marathon/' + year + '-Results'\n",
    "    df_list = []\n",
    "    row_shape, x = (1, 1)\n",
    "    while row_shape > 0:    \n",
    "        payload = {'page': str(x)}\n",
    "        response = requests.post(URL, params=payload)        \n",
    "        table_soup = bs(response.content, \"html.parser\").find(attrs={\"class\": \"race-search-main\"})\n",
    "        df_page = pd.read_html(str(table_soup))[0]    \n",
    "        row_shape = df_page.shape[0]\n",
    "        df_list.append(df_page)\n",
    "        x += 1   \n",
    "    print('pulled ' + year + ' ' + str(is_full))\n",
    "    return pd.concat(df_list)\n",
    "\n",
    "##test pull function\n",
    "fulls, halves = [], []\n",
    "for yr in range(2016, 2020):\n",
    "    fulls.append(pull_nash_marathon_data(is_full=True, city='Nashville', year=str(yr)))\n",
    "    halves.append(pull_nash_marathon_data(is_full=False, city='Nashville', year=str(yr)))\n",
    "print(str(len(fulls)) + ' ' + str(len(halves))\n",
    "    "
   ]
  },
  {
   "cell_type": "code",
   "execution_count": 84,
   "metadata": {},
   "outputs": [],
   "source": [
    "all_lists = fulls + halves\n",
    "all_races = pd.concat(all_lists, axis=0)\n",
    "all_races.reset_index()\n",
    "all_sorted = all_races.sort_values('Time', axis=0)\n",
    "total_runner_years = all_sorted.shape[0]\n"
   ]
  },
  {
   "cell_type": "code",
   "execution_count": 85,
   "metadata": {},
   "outputs": [],
   "source": [
    "all_sorted.drop_duplicates(subset=['Name'], keep='first', inplace=True)\n",
    "runners_deduped = all_sorted.shape[0]"
   ]
  },
  {
   "cell_type": "code",
   "execution_count": 90,
   "metadata": {},
   "outputs": [
    {
     "name": "stdout",
     "output_type": "stream",
     "text": [
      "0.21\n",
      "4.761904761904762\n"
     ]
    }
   ],
   "source": [
    "prop_duplicates = (total_runner_years - runners_deduped) / total_runner_years\n",
    "print(round(prop_duplicates, 2))\n",
    "## Average runner ran the race 1.27 times 1/(1 - 0.21)"
   ]
  },
  {
   "cell_type": "code",
   "execution_count": 91,
   "metadata": {},
   "outputs": [
    {
     "name": "stdout",
     "output_type": "stream",
     "text": [
      "10         Kyle\n",
      "0         Matty\n",
      "24         Lisa\n",
      "23      Russell\n",
      "22         Dave\n",
      "        ...    \n",
      "20        Molly\n",
      "21         Lynn\n",
      "23         Kate\n",
      "24    Gabrielle\n",
      "0       Valerie\n",
      "Name: First Name, Length: 70709, dtype: object\n"
     ]
    }
   ],
   "source": [
    "all_sorted['First Name'] = all_sorted['Name'].apply(lambda x: x.split(' ')[0])\n",
    "print(all_sorted['First Name'])"
   ]
  },
  {
   "cell_type": "code",
   "execution_count": 92,
   "metadata": {},
   "outputs": [
    {
     "name": "stdout",
     "output_type": "stream",
     "text": [
      "10               Eason\n",
      "0                Mcree\n",
      "24            Tumminia\n",
      "23             Roberts\n",
      "22            Matthews\n",
      "            ...       \n",
      "20              Rogers\n",
      "21    Gillespie-Chater\n",
      "23             Mishkin\n",
      "24              Castro\n",
      "0               Bailey\n",
      "Name: Last Name, Length: 70709, dtype: object\n"
     ]
    }
   ],
   "source": [
    "all_sorted['Last Name'] = all_sorted['Name'].apply(lambda x: x.split(' ')[-1])\n",
    "print(all_sorted['Last Name'])"
   ]
  },
  {
   "cell_type": "code",
   "execution_count": 96,
   "metadata": {},
   "outputs": [
    {
     "data": {
      "text/plain": [
       "0.6632819018795344"
      ]
     },
     "execution_count": 96,
     "metadata": {},
     "output_type": "execute_result"
    }
   ],
   "source": [
    "have_hyph = all_sorted.loc[all_sorted['Last Name'].str.contains('-', regex=False)].shape[0]\n",
    "pct_hyph = 100 * (have_dash / all_sorted.shape[0])\n",
    "pct_hyph"
   ]
  },
  {
   "cell_type": "code",
   "execution_count": 98,
   "metadata": {},
   "outputs": [
    {
     "name": "stdout",
     "output_type": "stream",
     "text": [
      "   Overall    Bib                   Name      Time First Name  \\\n",
      "10   99999   1528             Kyle Eason  00:00:00       Kyle   \n",
      "23   99999   6599        Russell Roberts  00:00:00    Russell   \n",
      "17   99999  32199         Raquel Jarrard  00:00:00     Raquel   \n",
      "16   99999   1649          Richard Begin  00:00:00    Richard   \n",
      "15   99999  37480       Allison Braswell  00:00:00    Allison   \n",
      "..     ...    ...                    ...       ...        ...   \n",
      "8     2942  26018          Shelly Morris  06:34:13     Shelly   \n",
      "12    2947  27121    Nicholas D'Agostino  06:37:02   Nicholas   \n",
      "0     2101  33717          Dallas Heyden  06:37:34     Dallas   \n",
      "24    2025  30026            Alex Easley  06:43:55       Alex   \n",
      "21    2956  27374  Lynn Gillespie-Chater  06:44:43       Lynn   \n",
      "\n",
      "           Last Name  \n",
      "10             Eason  \n",
      "23           Roberts  \n",
      "17           Jarrard  \n",
      "16             Begin  \n",
      "15          Braswell  \n",
      "..               ...  \n",
      "8             Morris  \n",
      "12        D'Agostino  \n",
      "0             Heyden  \n",
      "24            Easley  \n",
      "21  Gillespie-Chater  \n",
      "\n",
      "[29120 rows x 6 columns]\n"
     ]
    },
    {
     "data": {
      "text/plain": [
       "41.18287629580393"
      ]
     },
     "execution_count": 98,
     "metadata": {},
     "output_type": "execute_result"
    }
   ],
   "source": [
    "is_last = all_sorted.loc[all_sorted['First Name'].isin(all_sorted['Last Name'])].shape[0]\n",
    "print(all_sorted.loc[all_sorted['First Name'].isin(all_sorted['Last Name'])])\n",
    "pct_is_last = 100 * (is_last / all_sorted.shape[0])\n",
    "pct_is_last"
   ]
  },
  {
   "cell_type": "code",
   "execution_count": null,
   "metadata": {},
   "outputs": [],
   "source": []
  }
 ],
 "metadata": {
  "kernelspec": {
   "display_name": "Python 3",
   "language": "python",
   "name": "python3"
  },
  "language_info": {
   "codemirror_mode": {
    "name": "ipython",
    "version": 3
   },
   "file_extension": ".py",
   "mimetype": "text/x-python",
   "name": "python",
   "nbconvert_exporter": "python",
   "pygments_lexer": "ipython3",
   "version": "3.8.3"
  }
 },
 "nbformat": 4,
 "nbformat_minor": 4
}
