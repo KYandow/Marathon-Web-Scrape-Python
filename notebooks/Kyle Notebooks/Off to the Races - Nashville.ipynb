{
 "cells": [
  {
   "cell_type": "code",
   "execution_count": 57,
   "metadata": {},
   "outputs": [],
   "source": [
    "import requests\n",
    "from bs4 import BeautifulSoup as bs\n",
    "import pandas as pd\n",
    "import matplotlib.pyplot as plt\n",
    "import seaborn as sns"
   ]
  },
  {
   "cell_type": "code",
   "execution_count": 4,
   "metadata": {},
   "outputs": [],
   "source": [
    "def pull_nash_marathon_data(is_full=True, city='Nashville', year='2019'):\n",
    "    full_in = '' if is_full else 'Half-'\n",
    "    URL = 'https://www.runrocknroll.com/Events/' + city + '/The-Races/' + full_in + 'Marathon/' + year + '-Results'\n",
    "    df_list = []\n",
    "    row_shape, x = (1, 1)\n",
    "    while row_shape > 0:    \n",
    "        payload = {'page': str(x)}\n",
    "        response = requests.post(URL, params=payload)        \n",
    "        table_soup = bs(response.content, \"html.parser\").find(attrs={\"class\": \"race-search-main\"})\n",
    "        df_page = pd.read_html(str(table_soup))[0]    \n",
    "        row_shape = df_page.shape[0]\n",
    "        df_list.append(df_page)\n",
    "        x += 1   \n",
    "    print('pulled ' + year + ' ' + str(is_full))\n",
    "    return pd.concat(df_list)\n",
    "\n"
   ]
  },
  {
   "cell_type": "code",
   "execution_count": 5,
   "metadata": {},
   "outputs": [
    {
     "name": "stdout",
     "output_type": "stream",
     "text": [
      "pulled 2016 True\n",
      "pulled 2016 False\n",
      "pulled 2017 True\n",
      "pulled 2017 False\n",
      "pulled 2018 True\n",
      "pulled 2018 False\n",
      "pulled 2019 True\n",
      "pulled 2019 False\n",
      "4 4\n"
     ]
    }
   ],
   "source": [
    "##run pull function for Nashville races\n",
    "fulls, halves = [], []\n",
    "for yr in range(2016, 2020):\n",
    "    fulls.append(pull_nash_marathon_data(is_full=True, city='Nashville', year=str(yr)))\n",
    "    halves.append(pull_nash_marathon_data(is_full=False, city='Nashville', year=str(yr)))\n",
    "print(str(len(fulls)) + ' ' + str(len(halves)))"
   ]
  },
  {
   "cell_type": "code",
   "execution_count": 6,
   "metadata": {},
   "outputs": [],
   "source": [
    "## Add a column for how much of a marathon was run for calculating time/marathon\n",
    "\n",
    "for f in fulls:\n",
    "    f['Race'] = 1\n",
    "for h in halves:\n",
    "    h['Race'] = 0.5"
   ]
  },
  {
   "cell_type": "code",
   "execution_count": 69,
   "metadata": {},
   "outputs": [
    {
     "name": "stdout",
     "output_type": "stream",
     "text": [
      "Average runner ran the race 1.24 times.\n"
     ]
    }
   ],
   "source": [
    "all_lists = fulls + halves\n",
    "all_races = pd.concat(all_lists, axis=0)\n",
    "all_races.reset_index(inplace=True)\n",
    "all_sorted = all_races.sort_values('Time', axis=0)\n",
    "\n",
    "## Remove times for those who didn't finish or didn't have a time recorded\n",
    "less_dnf_sorted = all_sorted.loc[all_sorted['Time'] != '00:00:00']\n",
    "\n",
    "total_runner_years = less_dnf_sorted.shape[0]\n",
    "## Take out duplicate runners, keeping their shortest race time \n",
    "## (which may be only a half-marathon if they ran both types)\n",
    "no_dnf_dupes = less_dnf_sorted.drop_duplicates(subset=['Name'], keep='first')\n",
    "runners_deduped = no_dnf_dupes.shape[0]\n",
    "prop_duplicates = (total_runner_years - runners_deduped) / total_runner_years\n",
    "y = 1 / (1 - prop_duplicates)\n",
    "print('Average runner ran the race ' + str(round(y, 2)) + ' times.')"
   ]
  },
  {
   "cell_type": "code",
   "execution_count": 8,
   "metadata": {},
   "outputs": [
    {
     "name": "stdout",
     "output_type": "stream",
     "text": [
      "57140    Roosevelt\n",
      "57141        Lucas\n",
      "72080         Nick\n",
      "34848        Tyler\n",
      "34849         Bill\n",
      "           ...    \n",
      "2946          Lynn\n",
      "3457        Annaka\n",
      "2948          Kate\n",
      "2949     Gabrielle\n",
      "2950       Valerie\n",
      "Name: First Name, Length: 59619, dtype: object\n"
     ]
    }
   ],
   "source": [
    "split_first_names = no_dnf_dupes.copy()\n",
    "split_first_names['First Name'] = split_first_names['Name'].apply(lambda x: x.split(' ')[0])\n",
    "print(split_first_names['First Name'])"
   ]
  },
  {
   "cell_type": "code",
   "execution_count": 9,
   "metadata": {},
   "outputs": [],
   "source": [
    "no_dnf_dupes = split_first_names"
   ]
  },
  {
   "cell_type": "code",
   "execution_count": 10,
   "metadata": {},
   "outputs": [
    {
     "name": "stdout",
     "output_type": "stream",
     "text": [
      "57140                Cook\n",
      "57141              Cotter\n",
      "72080              French\n",
      "34848             Andrews\n",
      "34849              Martin\n",
      "               ...       \n",
      "2946     Gillespie-Chater\n",
      "3457               Silver\n",
      "2948              Mishkin\n",
      "2949               Castro\n",
      "2950               Bailey\n",
      "Name: Last Name, Length: 59619, dtype: object\n"
     ]
    }
   ],
   "source": [
    "split_last_names = no_dnf_dupes.copy()\n",
    "split_last_names['Last Name'] = split_last_names['Name'].apply(lambda x: x.split(' ')[-1])\n",
    "print(split_last_names['Last Name'])"
   ]
  },
  {
   "cell_type": "code",
   "execution_count": 11,
   "metadata": {},
   "outputs": [],
   "source": [
    "no_dnf_dupes = split_last_names"
   ]
  },
  {
   "cell_type": "code",
   "execution_count": 56,
   "metadata": {},
   "outputs": [
    {
     "name": "stdout",
     "output_type": "stream",
     "text": [
      "Percent of Runners with middle names: 1.95\n"
     ]
    }
   ],
   "source": [
    "find_middle = no_dnf_dupes.copy()\n",
    "find_middle['Middle'] = find_middle['Name'].apply(lambda x: x.split(' ')[1] if x.split(' ')[1] != x.split(' ')[-1] else '')\n",
    "have_middles = find_middle.loc[find_middle['Middle'].str.len() > 1]\n",
    "print('Percent of Runners with middle names: ' + str(round((100 * have_middles.shape[0] / find_middle.shape[0]), 2)))"
   ]
  },
  {
   "cell_type": "code",
   "execution_count": 12,
   "metadata": {},
   "outputs": [
    {
     "name": "stdout",
     "output_type": "stream",
     "text": [
      "Percent Hyphenated 0.78\n",
      "Percent apostrophied 0.38\n",
      "Percent parenthesized 0.04\n",
      "Percent with periods 0.17\n",
      "Percent with other characters 0.07\n"
     ]
    }
   ],
   "source": [
    "def pct_has_char(df, char_array, col):\n",
    "    instances = 0\n",
    "    for char in char_array:\n",
    "        instances += df.loc[df[col].str.contains(char, regex=False)].shape[0]\n",
    "    return round(100 * (instances / df.shape[0]), 2)\n",
    "\n",
    "def count_char(name_string, lower_char):\n",
    "    instances = 0\n",
    "    for letter in name_string:\n",
    "        if letter == lower_char or letter.lower() == lower_char:\n",
    "            instances += 1\n",
    "        else:\n",
    "            pass\n",
    "    return instances\n",
    "\n",
    "other = ['ã', '³', 'é', '¹', 'ç', 'ž', 'ñ', 'Â', '€', '˜', 'â', '™', '£', 'í', '1', '2', '3', '4', '5', '6', '7', '8', '9', '0']\n",
    "\n",
    "##How many runners have hyphenated Last Names?\n",
    "print('Percent Hyphenated ' + str(pct_has_char(no_dnf_dupes, ['-'], 'Name')))\n",
    "\n",
    "## ##How many runners have apostrophied Last Names?\n",
    "print('Percent apostrophied ' + str(pct_has_char(no_dnf_dupes, [\"'\", \"`\", \"’\"], 'Name')))\n",
    "\n",
    "print('Percent parenthesized ' + str(pct_has_char(no_dnf_dupes, ['(', '{', '['], 'Name')))\n",
    "\n",
    "print('Percent with periods ' + str(pct_has_char(no_dnf_dupes, ['.'], 'Name')))\n",
    "\n",
    "print('Percent with other characters ' + str(pct_has_char(no_dnf_dupes, other, 'Name')))"
   ]
  },
  {
   "cell_type": "code",
   "execution_count": 13,
   "metadata": {
    "scrolled": true
   },
   "outputs": [
    {
     "name": "stdout",
     "output_type": "stream",
     "text": [
      "Percent of First Names that are also Last Names: 39.3\n"
     ]
    }
   ],
   "source": [
    "##Discover how many First Names are also the Last Names of another runner\n",
    "is_last = no_dnf_dupes.loc[no_dnf_dupes['First Name'].isin(no_dnf_dupes['Last Name'])].shape[0]\n",
    "pct_is_last = round(100 * (is_last / no_dnf_dupes.shape[0]), 2)\n",
    "print('Percent of First Names that are also Last Names: ' + str(pct_is_last))"
   ]
  },
  {
   "cell_type": "code",
   "execution_count": 14,
   "metadata": {},
   "outputs": [],
   "source": [
    "def are_alpha(name_string):\n",
    "    are_all_alpha = True\n",
    "    for s in name_string:\n",
    "        if (ord(s) >= 65 and ord(s) <= 90) or (ord(s) >= 97 and ord(s) <= 122) or (ord(s) == 32):\n",
    "            pass\n",
    "        else:\n",
    "            are_all_alpha = False\n",
    "            break\n",
    "    return are_all_alpha\n",
    "\n",
    "def spit_non_alpha(name_string):\n",
    "    non_alphas = []\n",
    "    for s in name_string:        \n",
    "        if ((ord(s) >= 65 and ord(s) <= 90) or (ord(s) >= 97 and ord(s) <= 122) or (ord(s) == 32)):\n",
    "            pass\n",
    "        else:\n",
    "            non_alphas.append(s)\n",
    "    return non_alphas       "
   ]
  },
  {
   "cell_type": "code",
   "execution_count": 15,
   "metadata": {},
   "outputs": [
    {
     "name": "stdout",
     "output_type": "stream",
     "text": [
      "       index Overall    Bib                   Name      Time  Race  \\\n",
      "72137      7      58  16681     Arturo Cruz-Tucker  01:28:06   0.5   \n",
      "72146     16      67  17944         Warren O’neill  01:28:55   0.5   \n",
      "34890     17      43   4019       Jesse Zaro-Moore  01:29:23   0.5   \n",
      "72161      6      82   1278   Edward Stuart-Bourne  01:30:26   0.5   \n",
      "12527      8     110   1333         Adam O'Donnell  01:31:01   0.5   \n",
      "...      ...     ...    ...                    ...       ...   ...   \n",
      "11619     11    2012  31665     Anne-Marie Balzano  06:19:53   1.0   \n",
      "11622     14    2015  32794           Julie O'Neal  06:20:57   1.0   \n",
      "2884       9    2893  26202  Pamela Daniels-Halisi  06:23:18   1.0   \n",
      "2937      12    2947  27121    Nicholas D'Agostino  06:37:02   1.0   \n",
      "2946      21    2956  27374  Lynn Gillespie-Chater  06:44:43   1.0   \n",
      "\n",
      "       First Name         Last Name  \n",
      "72137      Arturo       Cruz-Tucker  \n",
      "72146      Warren           O’neill  \n",
      "34890       Jesse        Zaro-Moore  \n",
      "72161      Edward     Stuart-Bourne  \n",
      "12527        Adam         O'Donnell  \n",
      "...           ...               ...  \n",
      "11619  Anne-Marie           Balzano  \n",
      "11622       Julie            O'Neal  \n",
      "2884       Pamela    Daniels-Halisi  \n",
      "2937     Nicholas        D'Agostino  \n",
      "2946         Lynn  Gillespie-Chater  \n",
      "\n",
      "[848 rows x 8 columns]\n"
     ]
    }
   ],
   "source": [
    "non_alpha_names = no_dnf_dupes.loc[~no_dnf_dupes['Name'].apply(lambda x: are_alpha(x))]\n",
    "print(non_alpha_names)"
   ]
  },
  {
   "cell_type": "code",
   "execution_count": 16,
   "metadata": {},
   "outputs": [],
   "source": [
    "less_dnf_copy = no_dnf_dupes.copy()\n",
    "less_dnf_copy['A Count'] = no_dnf_dupes['Name'].apply(lambda x: count_char(x, 'a'))\n",
    "less_dnf_copy['E Count'] = no_dnf_dupes['Name'].apply(lambda x: count_char(x, 'e'))\n",
    "less_dnf_copy['I Count'] = no_dnf_dupes['Name'].apply(lambda x: count_char(x, 'i'))\n",
    "less_dnf_copy['O Count'] = no_dnf_dupes['Name'].apply(lambda x: count_char(x, 'o'))\n",
    "less_dnf_copy['U Count'] = no_dnf_dupes['Name'].apply(lambda x: count_char(x, 'u'))\n",
    "less_dnf_copy['Total Characters'] = no_dnf_dupes['Name'].apply(lambda x: len(x))"
   ]
  },
  {
   "cell_type": "code",
   "execution_count": 17,
   "metadata": {},
   "outputs": [
    {
     "data": {
      "text/html": [
       "<div>\n",
       "<style scoped>\n",
       "    .dataframe tbody tr th:only-of-type {\n",
       "        vertical-align: middle;\n",
       "    }\n",
       "\n",
       "    .dataframe tbody tr th {\n",
       "        vertical-align: top;\n",
       "    }\n",
       "\n",
       "    .dataframe thead th {\n",
       "        text-align: right;\n",
       "    }\n",
       "</style>\n",
       "<table border=\"1\" class=\"dataframe\">\n",
       "  <thead>\n",
       "    <tr style=\"text-align: right;\">\n",
       "      <th></th>\n",
       "      <th>index</th>\n",
       "      <th>Overall</th>\n",
       "      <th>Bib</th>\n",
       "      <th>Name</th>\n",
       "      <th>Time</th>\n",
       "      <th>Race</th>\n",
       "      <th>First Name</th>\n",
       "      <th>Last Name</th>\n",
       "      <th>A Count</th>\n",
       "      <th>E Count</th>\n",
       "      <th>I Count</th>\n",
       "      <th>O Count</th>\n",
       "      <th>U Count</th>\n",
       "      <th>Total Characters</th>\n",
       "    </tr>\n",
       "  </thead>\n",
       "  <tbody>\n",
       "    <tr>\n",
       "      <th>57140</th>\n",
       "      <td>0</td>\n",
       "      <td>1</td>\n",
       "      <td>103</td>\n",
       "      <td>Roosevelt Cook</td>\n",
       "      <td>01:09:25</td>\n",
       "      <td>0.5</td>\n",
       "      <td>Roosevelt</td>\n",
       "      <td>Cook</td>\n",
       "      <td>0</td>\n",
       "      <td>2</td>\n",
       "      <td>0</td>\n",
       "      <td>4</td>\n",
       "      <td>0</td>\n",
       "      <td>14</td>\n",
       "    </tr>\n",
       "    <tr>\n",
       "      <th>57141</th>\n",
       "      <td>1</td>\n",
       "      <td>2</td>\n",
       "      <td>107</td>\n",
       "      <td>Lucas Cotter</td>\n",
       "      <td>01:09:51</td>\n",
       "      <td>0.5</td>\n",
       "      <td>Lucas</td>\n",
       "      <td>Cotter</td>\n",
       "      <td>1</td>\n",
       "      <td>1</td>\n",
       "      <td>0</td>\n",
       "      <td>1</td>\n",
       "      <td>1</td>\n",
       "      <td>12</td>\n",
       "    </tr>\n",
       "    <tr>\n",
       "      <th>72080</th>\n",
       "      <td>0</td>\n",
       "      <td>1</td>\n",
       "      <td>31</td>\n",
       "      <td>Nick French</td>\n",
       "      <td>01:10:03</td>\n",
       "      <td>0.5</td>\n",
       "      <td>Nick</td>\n",
       "      <td>French</td>\n",
       "      <td>0</td>\n",
       "      <td>1</td>\n",
       "      <td>1</td>\n",
       "      <td>0</td>\n",
       "      <td>0</td>\n",
       "      <td>11</td>\n",
       "    </tr>\n",
       "    <tr>\n",
       "      <th>34848</th>\n",
       "      <td>0</td>\n",
       "      <td>1</td>\n",
       "      <td>202</td>\n",
       "      <td>Tyler Andrews</td>\n",
       "      <td>01:10:58</td>\n",
       "      <td>0.5</td>\n",
       "      <td>Tyler</td>\n",
       "      <td>Andrews</td>\n",
       "      <td>1</td>\n",
       "      <td>2</td>\n",
       "      <td>0</td>\n",
       "      <td>0</td>\n",
       "      <td>0</td>\n",
       "      <td>13</td>\n",
       "    </tr>\n",
       "    <tr>\n",
       "      <th>34849</th>\n",
       "      <td>1</td>\n",
       "      <td>2</td>\n",
       "      <td>204</td>\n",
       "      <td>Bill Martin</td>\n",
       "      <td>01:11:25</td>\n",
       "      <td>0.5</td>\n",
       "      <td>Bill</td>\n",
       "      <td>Martin</td>\n",
       "      <td>1</td>\n",
       "      <td>0</td>\n",
       "      <td>2</td>\n",
       "      <td>0</td>\n",
       "      <td>0</td>\n",
       "      <td>11</td>\n",
       "    </tr>\n",
       "  </tbody>\n",
       "</table>\n",
       "</div>"
      ],
      "text/plain": [
       "       index Overall  Bib            Name      Time  Race First Name  \\\n",
       "57140      0       1  103  Roosevelt Cook  01:09:25   0.5  Roosevelt   \n",
       "57141      1       2  107    Lucas Cotter  01:09:51   0.5      Lucas   \n",
       "72080      0       1   31     Nick French  01:10:03   0.5       Nick   \n",
       "34848      0       1  202   Tyler Andrews  01:10:58   0.5      Tyler   \n",
       "34849      1       2  204     Bill Martin  01:11:25   0.5       Bill   \n",
       "\n",
       "      Last Name  A Count  E Count  I Count  O Count  U Count  Total Characters  \n",
       "57140      Cook        0        2        0        4        0                14  \n",
       "57141    Cotter        1        1        0        1        1                12  \n",
       "72080    French        0        1        1        0        0                11  \n",
       "34848   Andrews        1        2        0        0        0                13  \n",
       "34849    Martin        1        0        2        0        0                11  "
      ]
     },
     "execution_count": 17,
     "metadata": {},
     "output_type": "execute_result"
    }
   ],
   "source": [
    "no_dnf_dupes = less_dnf_copy\n",
    "no_dnf_dupes.head()"
   ]
  },
  {
   "cell_type": "code",
   "execution_count": 18,
   "metadata": {},
   "outputs": [],
   "source": [
    "no_dnf_dupes['Time Delta'] = pd.to_timedelta(no_dnf_dupes['Time'])"
   ]
  },
  {
   "cell_type": "code",
   "execution_count": 19,
   "metadata": {},
   "outputs": [],
   "source": [
    "no_dnf_dupes['Time per Full'] = no_dnf_dupes['Time Delta'] / no_dnf_dupes['Race']"
   ]
  },
  {
   "cell_type": "code",
   "execution_count": 20,
   "metadata": {},
   "outputs": [],
   "source": [
    "no_dnf_dupes['Total Vowels'] = no_dnf_dupes['A Count'] + no_dnf_dupes['E Count'] + no_dnf_dupes['I Count'] + no_dnf_dupes['O Count'] + no_dnf_dupes['U Count']\n",
    "no_dnf_dupes['Vowels Rate'] = no_dnf_dupes['Total Vowels'] / no_dnf_dupes['Total Characters']"
   ]
  },
  {
   "cell_type": "code",
   "execution_count": 21,
   "metadata": {},
   "outputs": [],
   "source": [
    "no_dnf_dupes['Starts With'] = no_dnf_dupes['Name'].apply(lambda x: x[0].upper())"
   ]
  },
  {
   "cell_type": "code",
   "execution_count": 22,
   "metadata": {},
   "outputs": [
    {
     "name": "stdout",
     "output_type": "stream",
     "text": [
      "  Starts With  Overall\n",
      "0           J     7427\n",
      "1           M     6167\n",
      "2           A     5695\n",
      "3           K     5215\n",
      "4           C     4926\n"
     ]
    },
    {
     "data": {
      "text/plain": [
       "<matplotlib.axes._subplots.AxesSubplot at 0x24672409790>"
      ]
     },
     "execution_count": 22,
     "metadata": {},
     "output_type": "execute_result"
    },
    {
     "data": {
      "image/png": "[encoded data removed]",
      "text/plain": [
       "<Figure size 432x288 with 1 Axes>"
      ]
     },
     "metadata": {
      "needs_background": "light"
     },
     "output_type": "display_data"
    }
   ],
   "source": [
    "race_names_count = pd.DataFrame(no_dnf_dupes.groupby(['Starts With']).count()['Overall'])\n",
    "race_names_count = race_names_count.sort_values('Overall', ascending=False).reset_index()\n",
    "race_names_count['Grand Total'] = race_names_count['Overall'].sum()\n",
    "race_names_count.rename(columns={'Overall': 'Sum Names', 'Starts With': 'Race Initial Letter'}, inplace=True)\n",
    "\n",
    "race_names_count['Pct Init'] = 100 * race_names_count['Sum Names'] / race_names_count['Grand Total']\n",
    "race_names_short = race_names_count.head(15)\n",
    "race_names_short.plot.bar('Race Initial Letter','Pct Init')"
   ]
  },
  {
   "cell_type": "code",
   "execution_count": 23,
   "metadata": {},
   "outputs": [
    {
     "data": {
      "text/plain": [
       "<matplotlib.axes._subplots.AxesSubplot at 0x24672c15eb0>"
      ]
     },
     "execution_count": 23,
     "metadata": {},
     "output_type": "execute_result"
    },
    {
     "data": {
      "image/png": "[encoded data removed]",
      "text/plain": [
       "<Figure size 432x288 with 1 Axes>"
      ]
     },
     "metadata": {
      "needs_background": "light"
     },
     "output_type": "display_data"
    }
   ],
   "source": [
    "## DL baby names from 1995 to compare them to race names\n",
    "names_df_list = []\n",
    "names_df_list.append(pd.read_csv('../../assets/yob1994.txt', names=['Baby Name', 'Gender', 'Number']))\n",
    "names_df_list.append(pd.read_csv('../../assets/yob1995.txt', names=['Baby Name', 'Gender', 'Number']))\n",
    "names_df_list.append(pd.read_csv('../../assets/yob1996.txt', names=['Baby Name', 'Gender', 'Number']))\n",
    "names_df_94_96 = pd.concat(names_df_list)\n",
    "names_df_94_96['Init'] = names_df_94_96['Baby Name'].apply(lambda x: x[0].upper())\n",
    "\n",
    "names_summed = names_df_94_96.groupby(by='Init')['Number'].agg(['sum']).sort_values(by=('sum'), ascending=False).reset_index()\n",
    "names_summed.rename(columns={'Init': 'National Initial Letter'}, inplace=True)\n",
    "names_summed['Grand Total'] = names_summed['sum'].sum()\n",
    "names_summed['Pct Init'] = 100 * names_summed['sum'] / names_summed['Grand Total']\n",
    "names_summed_short = names_summed.head(15)\n",
    "names_summed_short.plot.bar('National Initial Letter','Pct Init')\n"
   ]
  },
  {
   "cell_type": "code",
   "execution_count": 24,
   "metadata": {},
   "outputs": [],
   "source": [
    "time_correct_df = no_dnf_dupes.astype({'Time per Full': 'timedelta64[m]'})"
   ]
  },
  {
   "cell_type": "code",
   "execution_count": 25,
   "metadata": {},
   "outputs": [
    {
     "data": {
      "text/html": [
       "<div>\n",
       "<style scoped>\n",
       "    .dataframe tbody tr th:only-of-type {\n",
       "        vertical-align: middle;\n",
       "    }\n",
       "\n",
       "    .dataframe tbody tr th {\n",
       "        vertical-align: top;\n",
       "    }\n",
       "\n",
       "    .dataframe thead th {\n",
       "        text-align: right;\n",
       "    }\n",
       "</style>\n",
       "<table border=\"1\" class=\"dataframe\">\n",
       "  <thead>\n",
       "    <tr style=\"text-align: right;\">\n",
       "      <th></th>\n",
       "      <th>index</th>\n",
       "      <th>Overall</th>\n",
       "      <th>Bib</th>\n",
       "      <th>Name</th>\n",
       "      <th>Time</th>\n",
       "      <th>Race</th>\n",
       "      <th>First Name</th>\n",
       "      <th>Last Name</th>\n",
       "      <th>A Count</th>\n",
       "      <th>E Count</th>\n",
       "      <th>I Count</th>\n",
       "      <th>O Count</th>\n",
       "      <th>U Count</th>\n",
       "      <th>Total Characters</th>\n",
       "      <th>Time Delta</th>\n",
       "      <th>Time per Full</th>\n",
       "      <th>Total Vowels</th>\n",
       "      <th>Vowels Rate</th>\n",
       "      <th>Starts With</th>\n",
       "    </tr>\n",
       "  </thead>\n",
       "  <tbody>\n",
       "    <tr>\n",
       "      <th>57140</th>\n",
       "      <td>0</td>\n",
       "      <td>1</td>\n",
       "      <td>103</td>\n",
       "      <td>Roosevelt Cook</td>\n",
       "      <td>01:09:25</td>\n",
       "      <td>0.5</td>\n",
       "      <td>Roosevelt</td>\n",
       "      <td>Cook</td>\n",
       "      <td>0</td>\n",
       "      <td>2</td>\n",
       "      <td>0</td>\n",
       "      <td>4</td>\n",
       "      <td>0</td>\n",
       "      <td>14</td>\n",
       "      <td>01:09:25</td>\n",
       "      <td>138.0</td>\n",
       "      <td>6</td>\n",
       "      <td>0.428571</td>\n",
       "      <td>R</td>\n",
       "    </tr>\n",
       "    <tr>\n",
       "      <th>57141</th>\n",
       "      <td>1</td>\n",
       "      <td>2</td>\n",
       "      <td>107</td>\n",
       "      <td>Lucas Cotter</td>\n",
       "      <td>01:09:51</td>\n",
       "      <td>0.5</td>\n",
       "      <td>Lucas</td>\n",
       "      <td>Cotter</td>\n",
       "      <td>1</td>\n",
       "      <td>1</td>\n",
       "      <td>0</td>\n",
       "      <td>1</td>\n",
       "      <td>1</td>\n",
       "      <td>12</td>\n",
       "      <td>01:09:51</td>\n",
       "      <td>139.0</td>\n",
       "      <td>4</td>\n",
       "      <td>0.333333</td>\n",
       "      <td>L</td>\n",
       "    </tr>\n",
       "    <tr>\n",
       "      <th>72080</th>\n",
       "      <td>0</td>\n",
       "      <td>1</td>\n",
       "      <td>31</td>\n",
       "      <td>Nick French</td>\n",
       "      <td>01:10:03</td>\n",
       "      <td>0.5</td>\n",
       "      <td>Nick</td>\n",
       "      <td>French</td>\n",
       "      <td>0</td>\n",
       "      <td>1</td>\n",
       "      <td>1</td>\n",
       "      <td>0</td>\n",
       "      <td>0</td>\n",
       "      <td>11</td>\n",
       "      <td>01:10:03</td>\n",
       "      <td>140.0</td>\n",
       "      <td>2</td>\n",
       "      <td>0.181818</td>\n",
       "      <td>N</td>\n",
       "    </tr>\n",
       "    <tr>\n",
       "      <th>34848</th>\n",
       "      <td>0</td>\n",
       "      <td>1</td>\n",
       "      <td>202</td>\n",
       "      <td>Tyler Andrews</td>\n",
       "      <td>01:10:58</td>\n",
       "      <td>0.5</td>\n",
       "      <td>Tyler</td>\n",
       "      <td>Andrews</td>\n",
       "      <td>1</td>\n",
       "      <td>2</td>\n",
       "      <td>0</td>\n",
       "      <td>0</td>\n",
       "      <td>0</td>\n",
       "      <td>13</td>\n",
       "      <td>01:10:58</td>\n",
       "      <td>141.0</td>\n",
       "      <td>3</td>\n",
       "      <td>0.230769</td>\n",
       "      <td>T</td>\n",
       "    </tr>\n",
       "    <tr>\n",
       "      <th>34849</th>\n",
       "      <td>1</td>\n",
       "      <td>2</td>\n",
       "      <td>204</td>\n",
       "      <td>Bill Martin</td>\n",
       "      <td>01:11:25</td>\n",
       "      <td>0.5</td>\n",
       "      <td>Bill</td>\n",
       "      <td>Martin</td>\n",
       "      <td>1</td>\n",
       "      <td>0</td>\n",
       "      <td>2</td>\n",
       "      <td>0</td>\n",
       "      <td>0</td>\n",
       "      <td>11</td>\n",
       "      <td>01:11:25</td>\n",
       "      <td>142.0</td>\n",
       "      <td>3</td>\n",
       "      <td>0.272727</td>\n",
       "      <td>B</td>\n",
       "    </tr>\n",
       "  </tbody>\n",
       "</table>\n",
       "</div>"
      ],
      "text/plain": [
       "       index Overall  Bib            Name      Time  Race First Name  \\\n",
       "57140      0       1  103  Roosevelt Cook  01:09:25   0.5  Roosevelt   \n",
       "57141      1       2  107    Lucas Cotter  01:09:51   0.5      Lucas   \n",
       "72080      0       1   31     Nick French  01:10:03   0.5       Nick   \n",
       "34848      0       1  202   Tyler Andrews  01:10:58   0.5      Tyler   \n",
       "34849      1       2  204     Bill Martin  01:11:25   0.5       Bill   \n",
       "\n",
       "      Last Name  A Count  E Count  I Count  O Count  U Count  \\\n",
       "57140      Cook        0        2        0        4        0   \n",
       "57141    Cotter        1        1        0        1        1   \n",
       "72080    French        0        1        1        0        0   \n",
       "34848   Andrews        1        2        0        0        0   \n",
       "34849    Martin        1        0        2        0        0   \n",
       "\n",
       "       Total Characters Time Delta  Time per Full  Total Vowels  Vowels Rate  \\\n",
       "57140                14   01:09:25          138.0             6     0.428571   \n",
       "57141                12   01:09:51          139.0             4     0.333333   \n",
       "72080                11   01:10:03          140.0             2     0.181818   \n",
       "34848                13   01:10:58          141.0             3     0.230769   \n",
       "34849                11   01:11:25          142.0             3     0.272727   \n",
       "\n",
       "      Starts With  \n",
       "57140           R  \n",
       "57141           L  \n",
       "72080           N  \n",
       "34848           T  \n",
       "34849           B  "
      ]
     },
     "execution_count": 25,
     "metadata": {},
     "output_type": "execute_result"
    }
   ],
   "source": [
    "time_correct_df.head()"
   ]
  },
  {
   "cell_type": "code",
   "execution_count": 65,
   "metadata": {},
   "outputs": [
    {
     "data": {
      "text/plain": [
       "<matplotlib.axes._subplots.AxesSubplot at 0x2467ce07fa0>"
      ]
     },
     "execution_count": 65,
     "metadata": {},
     "output_type": "execute_result"
    },
    {
     "data": {
      "image/png": "[encoded data removed]",
      "text/plain": [
       "<Figure size 432x288 with 1 Axes>"
      ]
     },
     "metadata": {
      "needs_background": "light"
     },
     "output_type": "display_data"
    }
   ],
   "source": [
    "sns.violinplot(y='Time per Full', data=time_correct_df)"
   ]
  },
  {
   "cell_type": "code",
   "execution_count": 67,
   "metadata": {},
   "outputs": [
    {
     "data": {
      "text/plain": [
       "<matplotlib.axes._subplots.AxesSubplot at 0x2467ceb9d30>"
      ]
     },
     "execution_count": 67,
     "metadata": {},
     "output_type": "execute_result"
    },
    {
     "data": {
      "image/png": "[encoded data removed]",
      "text/plain": [
       "<Figure size 432x288 with 1 Axes>"
      ]
     },
     "metadata": {
      "needs_background": "light"
     },
     "output_type": "display_data"
    }
   ],
   "source": [
    "sns.violinplot(y='Vowels Rate', data=time_correct_df)"
   ]
  },
  {
   "cell_type": "code",
   "execution_count": 68,
   "metadata": {},
   "outputs": [
    {
     "data": {
      "text/plain": [
       "<seaborn.axisgrid.JointGrid at 0x2467c96ca60>"
      ]
     },
     "execution_count": 68,
     "metadata": {},
     "output_type": "execute_result"
    },
    {
     "data": {
      "image/png": "[encoded data removed]",
      "text/plain": [
       "<Figure size 432x432 with 3 Axes>"
      ]
     },
     "metadata": {
      "needs_background": "light"
     },
     "output_type": "display_data"
    }
   ],
   "source": [
    "sns.lmplot(x='Time per Full', y='Vowels Rate', data=time_correct_df, line_kws={'color': 'red'})"
   ]
  },
  {
   "cell_type": "code",
   "execution_count": 62,
   "metadata": {},
   "outputs": [
    {
     "data": {
      "text/plain": [
       "<seaborn.axisgrid.FacetGrid at 0x2467b8ef4f0>"
      ]
     },
     "execution_count": 62,
     "metadata": {},
     "output_type": "execute_result"
    },
    {
     "data": {
      "image/png": "[encoded data removed]",
      "text/plain": [
       "<Figure size 360x360 with 1 Axes>"
      ]
     },
     "metadata": {
      "needs_background": "light"
     },
     "output_type": "display_data"
    }
   ],
   "source": [
    "sns.lmplot(x='Time per Full', y='Total Characters', data=time_correct_df, line_kws={'color': 'red'})"
   ]
  },
  {
   "cell_type": "code",
   "execution_count": null,
   "metadata": {},
   "outputs": [],
   "source": [
    "sum_vowels = [time_correct_df['A Count'].sum(), time_correct_df['E Count'].sum(), time_correct_df['I Count'].sum(), time_correct_df['O Count'].sum(), time_correct_df['U Count'].sum()]\n",
    "new_df = pd.DataFrame({'Vowel Sums': sum_vowels, 'Vowels': ['A', 'E', 'I', 'O', 'U']})\n"
   ]
  },
  {
   "cell_type": "code",
   "execution_count": 45,
   "metadata": {},
   "outputs": [
    {
     "data": {
      "text/plain": [
       "<matplotlib.axes._subplots.AxesSubplot at 0x24670ae8520>"
      ]
     },
     "execution_count": 45,
     "metadata": {},
     "output_type": "execute_result"
    },
    {
     "data": {
      "image/png": "[encoded data removed]",
      "text/plain": [
       "<Figure size 432x288 with 1 Axes>"
      ]
     },
     "metadata": {
      "needs_background": "light"
     },
     "output_type": "display_data"
    }
   ],
   "source": [
    "new_df.plot.bar('Vowels','Vowel Sums')"
   ]
  },
  {
   "cell_type": "code",
   "execution_count": null,
   "metadata": {},
   "outputs": [],
   "source": []
  }
 ],
 "metadata": {
  "kernelspec": {
   "display_name": "Python 3",
   "language": "python",
   "name": "python3"
  },
  "language_info": {
   "codemirror_mode": {
    "name": "ipython",
    "version": 3
   },
   "file_extension": ".py",
   "mimetype": "text/x-python",
   "name": "python",
   "nbconvert_exporter": "python",
   "pygments_lexer": "ipython3",
   "version": "3.8.3"
  }
 },
 "nbformat": 4,
 "nbformat_minor": 4
}
