{
 "cells": [
  {
   "cell_type": "code",
   "execution_count": 44,
   "metadata": {},
   "outputs": [],
   "source": [
    "import requests\n",
    "from bs4 import BeautifulSoup as bs\n",
    "import pandas as pd\n",
    "import matplotlib.pyplot as plt\n",
    "import seaborn as sns"
   ]
  },
  {
   "cell_type": "code",
   "execution_count": 4,
   "metadata": {},
   "outputs": [],
   "source": [
    "def pull_nash_marathon_data(is_full=True, city='Liverpool', year='2019'):\n",
    "    full_in = '' if is_full else 'Half-'\n",
    "    URL = 'https://www.runrocknroll.com/Events/' + city + '/The-Races/' + full_in + 'Marathon/' + year + '-Results'\n",
    "    df_list = []\n",
    "    row_shape, x = (1, 1)\n",
    "    while row_shape > 0:    \n",
    "        payload = {'page': str(x)}\n",
    "        response = requests.post(URL, params=payload)        \n",
    "        table_soup = bs(response.content, \"html.parser\").find(attrs={\"class\": \"race-search-main\"})\n",
    "        df_page = pd.read_html(str(table_soup))[0]    \n",
    "        row_shape = df_page.shape[0]\n",
    "        df_list.append(df_page)\n",
    "        x += 1   \n",
    "    print('pulled ' + year + ' ' + str(is_full))\n",
    "    return pd.concat(df_list)"
   ]
  },
  {
   "cell_type": "code",
   "execution_count": 8,
   "metadata": {},
   "outputs": [
    {
     "name": "stdout",
     "output_type": "stream",
     "text": [
      "pulled 2016 True\n",
      "pulled 2016 False\n",
      "pulled 2017 True\n",
      "pulled 2017 False\n",
      "pulled 2018 True\n",
      "pulled 2018 False\n",
      "pulled 2019 True\n",
      "pulled 2019 False\n",
      "4 4\n"
     ]
    }
   ],
   "source": [
    "##run pull function for Liverpool races\n",
    "fulls, halves = [], []\n",
    "for yr in range(2016, 2020):\n",
    "    fulls.append(pull_nash_marathon_data(is_full=True, city='Liverpool', year=str(yr)))\n",
    "    halves.append(pull_nash_marathon_data(is_full=False, city='Liverpool', year=str(yr)))\n",
    "print(str(len(fulls)) + ' ' + str(len(halves)))"
   ]
  },
  {
   "cell_type": "code",
   "execution_count": 9,
   "metadata": {},
   "outputs": [],
   "source": [
    "## Add a column for how much of a marathon was run for calculating time/marathon\n",
    "\n",
    "for f in fulls:\n",
    "    f['Race'] = 1\n",
    "for h in halves:\n",
    "    h['Race'] = 0.5"
   ]
  },
  {
   "cell_type": "code",
   "execution_count": 20,
   "metadata": {},
   "outputs": [
    {
     "name": "stdout",
     "output_type": "stream",
     "text": [
      "Average runner ran the race 1.32 times.\n"
     ]
    }
   ],
   "source": [
    "all_lists = fulls + halves\n",
    "all_races = pd.concat(all_lists, axis=0)\n",
    "all_races.reset_index(inplace=True)\n",
    "all_sorted = all_races.sort_values('Time', axis=0)\n",
    "\n",
    "## Remove times for those who didn't finish or didn't have a time recorded\n",
    "less_dnf_sorted = all_sorted.loc[all_sorted['Time'] != '00:00:00']\n",
    "\n",
    "total_runner_years = less_dnf_sorted.shape[0]\n",
    "## Take out duplicate runners, keeping their shortest race time \n",
    "## (which may be only a half-marathon if they ran both types)\n",
    "no_dnf_dupes = less_dnf_sorted.drop_duplicates(subset=['Name'], keep='first')\n",
    "runners_deduped = no_dnf_dupes.shape[0]\n",
    "prop_duplicates = (total_runner_years - runners_deduped) / total_runner_years\n",
    "y = 1 / (1 - prop_duplicates)\n",
    "print('Average runner ran the race ' + str(round(y, 2)) + ' times.')"
   ]
  },
  {
   "cell_type": "code",
   "execution_count": 21,
   "metadata": {},
   "outputs": [
    {
     "name": "stdout",
     "output_type": "stream",
     "text": [
      "11901          Sam\n",
      "29094          Tom\n",
      "29095        Pablo\n",
      "29096       Arturo\n",
      "11902      Richard\n",
      "           ...    \n",
      "8771     Charlotte\n",
      "8772      Jennifer\n",
      "5538          Carl\n",
      "37859       Kirsty\n",
      "5539         Mandy\n",
      "Name: First Name, Length: 28692, dtype: object\n"
     ]
    }
   ],
   "source": [
    "split_first_names = no_dnf_dupes.copy()\n",
    "split_first_names['First Name'] = split_first_names['Name'].apply(lambda x: x.split(' ')[0])\n",
    "print(split_first_names['First Name'])"
   ]
  },
  {
   "cell_type": "code",
   "execution_count": 22,
   "metadata": {},
   "outputs": [],
   "source": [
    "no_dnf_dupes = split_first_names"
   ]
  },
  {
   "cell_type": "code",
   "execution_count": 23,
   "metadata": {},
   "outputs": [
    {
     "name": "stdout",
     "output_type": "stream",
     "text": [
      "11901          Pictor\n",
      "29094           Bains\n",
      "29095           Ruano\n",
      "29096        González\n",
      "11902         Waldron\n",
      "             ...     \n",
      "8771     Heywood-Dean\n",
      "8772            Lloyd\n",
      "5538          Furlong\n",
      "37859         Connell\n",
      "5539            Sharp\n",
      "Name: Last Name, Length: 28692, dtype: object\n"
     ]
    }
   ],
   "source": [
    "split_last_names = no_dnf_dupes.copy()\n",
    "split_last_names['Last Name'] = split_last_names['Name'].apply(lambda x: x.split(' ')[-1])\n",
    "print(split_last_names['Last Name'])"
   ]
  },
  {
   "cell_type": "code",
   "execution_count": 24,
   "metadata": {},
   "outputs": [],
   "source": [
    "no_dnf_dupes = split_last_names"
   ]
  },
  {
   "cell_type": "code",
   "execution_count": 42,
   "metadata": {},
   "outputs": [
    {
     "name": "stdout",
     "output_type": "stream",
     "text": [
      "Percent of Runners with middle names: 2.67\n"
     ]
    }
   ],
   "source": [
    "find_middle = no_dnf_dupes.copy()\n",
    "find_middle['Middle'] = find_middle['Name'].apply(lambda x: x.split(' ')[1] if x.split(' ')[1] != x.split(' ')[-1] else '')\n",
    "have_middles = find_middle.loc[find_middle['Middle'].str.len() > 1]\n",
    "print('Percent of Runners with middle names: ' + str(round((100 * have_middles.shape[0] / find_middle.shape[0]), 2)))"
   ]
  },
  {
   "cell_type": "code",
   "execution_count": 25,
   "metadata": {},
   "outputs": [
    {
     "name": "stdout",
     "output_type": "stream",
     "text": [
      "Percent Hyphenated 1.81\n",
      "Percent apostrophied 0.71\n",
      "Percent parenthesized 0.01\n",
      "Percent with periods 0.04\n",
      "Percent with other characters 0.39\n"
     ]
    }
   ],
   "source": [
    "def pct_has_char(df, char_array, col):\n",
    "    instances = 0\n",
    "    for char in char_array:\n",
    "        instances += df.loc[df[col].str.contains(char, regex=False)].shape[0]\n",
    "    return round(100 * (instances / df.shape[0]), 2)\n",
    "\n",
    "def count_char(name_string, lower_char):\n",
    "    instances = 0\n",
    "    for letter in name_string:\n",
    "        if letter == lower_char or letter.lower() == lower_char:\n",
    "            instances += 1\n",
    "        else:\n",
    "            pass\n",
    "    return instances\n",
    "\n",
    "other = ['ã', '³', 'é', '¹', 'ç', 'ž', 'ñ', 'Â', '€', '˜', 'â', '™', '£', 'í', '1', '2', '3', '4', '5', '6', '7', '8', '9', '0']\n",
    "\n",
    "##How many runners have hyphenated Last Names?\n",
    "print('Percent Hyphenated ' + str(pct_has_char(no_dnf_dupes, ['-'], 'Name')))\n",
    "\n",
    "## ##How many runners have apostrophied Last Names?\n",
    "print('Percent apostrophied ' + str(pct_has_char(no_dnf_dupes, [\"'\", \"`\", \"’\"], 'Name')))\n",
    "\n",
    "print('Percent parenthesized ' + str(pct_has_char(no_dnf_dupes, ['(', '{', '['], 'Name')))\n",
    "\n",
    "print('Percent with periods ' + str(pct_has_char(no_dnf_dupes, ['.'], 'Name')))\n",
    "\n",
    "print('Percent with other characters ' + str(pct_has_char(no_dnf_dupes, other, 'Name')))"
   ]
  },
  {
   "cell_type": "code",
   "execution_count": 26,
   "metadata": {
    "scrolled": true
   },
   "outputs": [
    {
     "name": "stdout",
     "output_type": "stream",
     "text": [
      "Percent of First Names that are also Last Names: 43.44\n"
     ]
    }
   ],
   "source": [
    "##Discover how many First Names are also the Last Names of another runner\n",
    "is_last = no_dnf_dupes.loc[no_dnf_dupes['First Name'].isin(no_dnf_dupes['Last Name'])].shape[0]\n",
    "pct_is_last = round(100 * (is_last / no_dnf_dupes.shape[0]), 2)\n",
    "print('Percent of First Names that are also Last Names: ' + str(pct_is_last))"
   ]
  },
  {
   "cell_type": "code",
   "execution_count": 27,
   "metadata": {},
   "outputs": [],
   "source": [
    "def are_alpha(name_string):\n",
    "    are_all_alpha = True\n",
    "    for s in name_string:\n",
    "        if (ord(s) >= 65 and ord(s) <= 90) or (ord(s) >= 97 and ord(s) <= 122) or (ord(s) == 32):\n",
    "            pass\n",
    "        else:\n",
    "            are_all_alpha = False\n",
    "            break\n",
    "    return are_all_alpha\n",
    "\n",
    "def spit_non_alpha(name_string):\n",
    "    non_alphas = []\n",
    "    for s in name_string:        \n",
    "        if ((ord(s) >= 65 and ord(s) <= 90) or (ord(s) >= 97 and ord(s) <= 122) or (ord(s) == 32)):\n",
    "            pass\n",
    "        else:\n",
    "            non_alphas.append(s)\n",
    "    return non_alphas       "
   ]
  },
  {
   "cell_type": "code",
   "execution_count": 28,
   "metadata": {},
   "outputs": [
    {
     "name": "stdout",
     "output_type": "stream",
     "text": [
      "       index Overall    Bib                           Name      Time  Race  \\\n",
      "29096      2       3   1742        Arturo Quijada González  01:11:33   0.5   \n",
      "11925     24      25   1762  Víctor Manuel Rafael Calderón  01:20:46   0.5   \n",
      "29113     19      20  16593                  Colin O'Brien  01:21:03   0.5   \n",
      "11938     12      39   1786                 Paulo Lourenço  01:22:00   0.5   \n",
      "29126      7      33  12489             Rory Storey-Walker  01:22:28   0.5   \n",
      "...      ...     ...    ...                            ...       ...   ...   \n",
      "20135      9    8290  20457          Zach Washington-Young  06:06:41   0.5   \n",
      "11875      1    3102  10403              Stacy-Ann Leather  06:09:29   1.0   \n",
      "8717       1    3178  10186              Helen Paver-Brown  06:10:24   1.0   \n",
      "8736      20    3197   7438             Debbie Mills-Burns  06:13:45   1.0   \n",
      "8771       5    3232  10366   Charlotte Emily Heywood-Dean  06:39:28   1.0   \n",
      "\n",
      "      First Name         Last Name  \n",
      "29096     Arturo          González  \n",
      "11925     Víctor          Calderón  \n",
      "29113      Colin           O'Brien  \n",
      "11938      Paulo          Lourenço  \n",
      "29126       Rory     Storey-Walker  \n",
      "...          ...               ...  \n",
      "20135       Zach  Washington-Young  \n",
      "11875  Stacy-Ann           Leather  \n",
      "8717       Helen       Paver-Brown  \n",
      "8736      Debbie       Mills-Burns  \n",
      "8771   Charlotte      Heywood-Dean  \n",
      "\n",
      "[941 rows x 8 columns]\n"
     ]
    }
   ],
   "source": [
    "non_alpha_names = no_dnf_dupes.loc[~no_dnf_dupes['Name'].apply(lambda x: are_alpha(x))]\n",
    "print(non_alpha_names)"
   ]
  },
  {
   "cell_type": "code",
   "execution_count": 29,
   "metadata": {},
   "outputs": [],
   "source": [
    "less_dnf_copy = no_dnf_dupes.copy()\n",
    "less_dnf_copy['A Count'] = no_dnf_dupes['Name'].apply(lambda x: count_char(x, 'a'))\n",
    "less_dnf_copy['E Count'] = no_dnf_dupes['Name'].apply(lambda x: count_char(x, 'e'))\n",
    "less_dnf_copy['I Count'] = no_dnf_dupes['Name'].apply(lambda x: count_char(x, 'i'))\n",
    "less_dnf_copy['O Count'] = no_dnf_dupes['Name'].apply(lambda x: count_char(x, 'o'))\n",
    "less_dnf_copy['U Count'] = no_dnf_dupes['Name'].apply(lambda x: count_char(x, 'u'))\n",
    "less_dnf_copy['Total Characters'] = no_dnf_dupes['Name'].apply(lambda x: len(x))"
   ]
  },
  {
   "cell_type": "code",
   "execution_count": 30,
   "metadata": {},
   "outputs": [
    {
     "data": {
      "text/html": [
       "<div>\n",
       "<style scoped>\n",
       "    .dataframe tbody tr th:only-of-type {\n",
       "        vertical-align: middle;\n",
       "    }\n",
       "\n",
       "    .dataframe tbody tr th {\n",
       "        vertical-align: top;\n",
       "    }\n",
       "\n",
       "    .dataframe thead th {\n",
       "        text-align: right;\n",
       "    }\n",
       "</style>\n",
       "<table border=\"1\" class=\"dataframe\">\n",
       "  <thead>\n",
       "    <tr style=\"text-align: right;\">\n",
       "      <th></th>\n",
       "      <th>index</th>\n",
       "      <th>Overall</th>\n",
       "      <th>Bib</th>\n",
       "      <th>Name</th>\n",
       "      <th>Time</th>\n",
       "      <th>Race</th>\n",
       "      <th>First Name</th>\n",
       "      <th>Last Name</th>\n",
       "      <th>A Count</th>\n",
       "      <th>E Count</th>\n",
       "      <th>I Count</th>\n",
       "      <th>O Count</th>\n",
       "      <th>U Count</th>\n",
       "      <th>Total Characters</th>\n",
       "    </tr>\n",
       "  </thead>\n",
       "  <tbody>\n",
       "    <tr>\n",
       "      <th>11901</th>\n",
       "      <td>0</td>\n",
       "      <td>1</td>\n",
       "      <td>1755</td>\n",
       "      <td>Sam Pictor</td>\n",
       "      <td>01:10:23</td>\n",
       "      <td>0.5</td>\n",
       "      <td>Sam</td>\n",
       "      <td>Pictor</td>\n",
       "      <td>1</td>\n",
       "      <td>0</td>\n",
       "      <td>1</td>\n",
       "      <td>1</td>\n",
       "      <td>0</td>\n",
       "      <td>10</td>\n",
       "    </tr>\n",
       "    <tr>\n",
       "      <th>29094</th>\n",
       "      <td>0</td>\n",
       "      <td>1</td>\n",
       "      <td>1502</td>\n",
       "      <td>Tom Bains</td>\n",
       "      <td>01:10:46</td>\n",
       "      <td>0.5</td>\n",
       "      <td>Tom</td>\n",
       "      <td>Bains</td>\n",
       "      <td>1</td>\n",
       "      <td>0</td>\n",
       "      <td>1</td>\n",
       "      <td>1</td>\n",
       "      <td>0</td>\n",
       "      <td>9</td>\n",
       "    </tr>\n",
       "    <tr>\n",
       "      <th>29095</th>\n",
       "      <td>1</td>\n",
       "      <td>2</td>\n",
       "      <td>1996</td>\n",
       "      <td>Pablo Garcia Ruano</td>\n",
       "      <td>01:11:31</td>\n",
       "      <td>0.5</td>\n",
       "      <td>Pablo</td>\n",
       "      <td>Ruano</td>\n",
       "      <td>4</td>\n",
       "      <td>0</td>\n",
       "      <td>1</td>\n",
       "      <td>2</td>\n",
       "      <td>1</td>\n",
       "      <td>18</td>\n",
       "    </tr>\n",
       "    <tr>\n",
       "      <th>29096</th>\n",
       "      <td>2</td>\n",
       "      <td>3</td>\n",
       "      <td>1742</td>\n",
       "      <td>Arturo Quijada González</td>\n",
       "      <td>01:11:33</td>\n",
       "      <td>0.5</td>\n",
       "      <td>Arturo</td>\n",
       "      <td>González</td>\n",
       "      <td>3</td>\n",
       "      <td>1</td>\n",
       "      <td>1</td>\n",
       "      <td>2</td>\n",
       "      <td>2</td>\n",
       "      <td>23</td>\n",
       "    </tr>\n",
       "    <tr>\n",
       "      <th>11902</th>\n",
       "      <td>1</td>\n",
       "      <td>2</td>\n",
       "      <td>1978</td>\n",
       "      <td>Richard Waldron</td>\n",
       "      <td>01:12:02</td>\n",
       "      <td>0.5</td>\n",
       "      <td>Richard</td>\n",
       "      <td>Waldron</td>\n",
       "      <td>2</td>\n",
       "      <td>0</td>\n",
       "      <td>1</td>\n",
       "      <td>1</td>\n",
       "      <td>0</td>\n",
       "      <td>15</td>\n",
       "    </tr>\n",
       "  </tbody>\n",
       "</table>\n",
       "</div>"
      ],
      "text/plain": [
       "       index Overall   Bib                     Name      Time  Race  \\\n",
       "11901      0       1  1755               Sam Pictor  01:10:23   0.5   \n",
       "29094      0       1  1502                Tom Bains  01:10:46   0.5   \n",
       "29095      1       2  1996       Pablo Garcia Ruano  01:11:31   0.5   \n",
       "29096      2       3  1742  Arturo Quijada González  01:11:33   0.5   \n",
       "11902      1       2  1978          Richard Waldron  01:12:02   0.5   \n",
       "\n",
       "      First Name Last Name  A Count  E Count  I Count  O Count  U Count  \\\n",
       "11901        Sam    Pictor        1        0        1        1        0   \n",
       "29094        Tom     Bains        1        0        1        1        0   \n",
       "29095      Pablo     Ruano        4        0        1        2        1   \n",
       "29096     Arturo  González        3        1        1        2        2   \n",
       "11902    Richard   Waldron        2        0        1        1        0   \n",
       "\n",
       "       Total Characters  \n",
       "11901                10  \n",
       "29094                 9  \n",
       "29095                18  \n",
       "29096                23  \n",
       "11902                15  "
      ]
     },
     "execution_count": 30,
     "metadata": {},
     "output_type": "execute_result"
    }
   ],
   "source": [
    "no_dnf_dupes = less_dnf_copy\n",
    "no_dnf_dupes.head()"
   ]
  },
  {
   "cell_type": "code",
   "execution_count": 31,
   "metadata": {},
   "outputs": [],
   "source": [
    "no_dnf_dupes['Time Delta'] = pd.to_timedelta(no_dnf_dupes['Time'])"
   ]
  },
  {
   "cell_type": "code",
   "execution_count": 32,
   "metadata": {},
   "outputs": [],
   "source": [
    "no_dnf_dupes['Time per Full'] = no_dnf_dupes['Time Delta'] / no_dnf_dupes['Race']"
   ]
  },
  {
   "cell_type": "code",
   "execution_count": 33,
   "metadata": {},
   "outputs": [],
   "source": [
    "no_dnf_dupes['Total Vowels'] = no_dnf_dupes['A Count'] + no_dnf_dupes['E Count'] + no_dnf_dupes['I Count'] + no_dnf_dupes['O Count'] + no_dnf_dupes['U Count']\n",
    "no_dnf_dupes['Vowels Rate'] = no_dnf_dupes['Total Vowels'] / no_dnf_dupes['Total Characters']"
   ]
  },
  {
   "cell_type": "code",
   "execution_count": 34,
   "metadata": {},
   "outputs": [],
   "source": [
    "no_dnf_dupes['Starts With'] = no_dnf_dupes['Name'].apply(lambda x: x[0].upper())"
   ]
  },
  {
   "cell_type": "code",
   "execution_count": 35,
   "metadata": {},
   "outputs": [
    {
     "name": "stdout",
     "output_type": "stream",
     "text": [
      "  Starts With  Overall\n",
      "0           J     3181\n",
      "1           S     2847\n",
      "2           A     2619\n",
      "3           M     2409\n",
      "4           C     2267\n"
     ]
    },
    {
     "data": {
      "text/plain": [
       "<matplotlib.axes._subplots.AxesSubplot at 0x1b6158c1d30>"
      ]
     },
     "execution_count": 35,
     "metadata": {},
     "output_type": "execute_result"
    },
    {
     "data": {
      "image/png": "[encoded data removed]",
      "text/plain": [
       "<Figure size 432x288 with 1 Axes>"
      ]
     },
     "metadata": {
      "needs_background": "light"
     },
     "output_type": "display_data"
    }
   ],
   "source": [
    "race_names_count = pd.DataFrame(no_dnf_dupes.groupby(['Starts With']).count()['Overall'])\n",
    "##\n",
    "race_names_count = race_names_count.sort_values('Overall', ascending=False).reset_index()\n",
    "print(race_names_count.head())\n",
    "race_names_count['Grand Total'] = race_names_count['Overall'].sum()\n",
    "race_names_count.rename(columns={'Overall': 'Sum Names', 'Starts With': 'Race Initial Letter'}, inplace=True)\n",
    "##less_dnf_sorted.plot.scatter(x='Time', y='Total Characters')\n",
    "race_names_count['Pct Init'] = 100 * race_names_count['Sum Names'] / race_names_count['Grand Total']\n",
    "race_names_short = race_names_count.head(15)\n",
    "race_names_short.plot.bar('Race Initial Letter','Pct Init')"
   ]
  },
  {
   "cell_type": "code",
   "execution_count": 38,
   "metadata": {},
   "outputs": [],
   "source": [
    "time_correct_df = no_dnf_dupes.astype({'Time per Full': 'timedelta64[m]'})"
   ]
  },
  {
   "cell_type": "code",
   "execution_count": 47,
   "metadata": {},
   "outputs": [
    {
     "data": {
      "text/plain": [
       "<matplotlib.axes._subplots.AxesSubplot at 0x1b6194a6640>"
      ]
     },
     "execution_count": 47,
     "metadata": {},
     "output_type": "execute_result"
    },
    {
     "data": {
      "image/png": "[encoded data removed]",
      "text/plain": [
       "<Figure size 432x288 with 1 Axes>"
      ]
     },
     "metadata": {
      "needs_background": "light"
     },
     "output_type": "display_data"
    }
   ],
   "source": [
    "sns.violinplot(y='Time per Full', data=time_correct_df)"
   ]
  },
  {
   "cell_type": "code",
   "execution_count": 48,
   "metadata": {},
   "outputs": [
    {
     "data": {
      "text/plain": [
       "<matplotlib.axes._subplots.AxesSubplot at 0x1b6194e2130>"
      ]
     },
     "execution_count": 48,
     "metadata": {},
     "output_type": "execute_result"
    },
    {
     "data": {
      "image/png": "[encoded data removed]",
      "text/plain": [
       "<Figure size 432x288 with 1 Axes>"
      ]
     },
     "metadata": {
      "needs_background": "light"
     },
     "output_type": "display_data"
    }
   ],
   "source": [
    "sns.violinplot(y='Vowels Rate', data=time_correct_df)"
   ]
  },
  {
   "cell_type": "code",
   "execution_count": 45,
   "metadata": {},
   "outputs": [
    {
     "data": {
      "text/plain": [
       "<seaborn.axisgrid.FacetGrid at 0x1b6193397c0>"
      ]
     },
     "execution_count": 45,
     "metadata": {},
     "output_type": "execute_result"
    },
    {
     "data": {
      "image/png": "[encoded data removed]",
      "text/plain": [
       "<Figure size 360x360 with 1 Axes>"
      ]
     },
     "metadata": {
      "needs_background": "light"
     },
     "output_type": "display_data"
    }
   ],
   "source": [
    "sns.lmplot(x='Time per Full', y='Vowels Rate', data=time_correct_df, line_kws={'color': 'red'})"
   ]
  },
  {
   "cell_type": "code",
   "execution_count": 46,
   "metadata": {},
   "outputs": [
    {
     "data": {
      "text/plain": [
       "<seaborn.axisgrid.FacetGrid at 0x1b619476880>"
      ]
     },
     "execution_count": 46,
     "metadata": {},
     "output_type": "execute_result"
    },
    {
     "data": {
      "image/png": "[encoded data removed]",
      "text/plain": [
       "<Figure size 360x360 with 1 Axes>"
      ]
     },
     "metadata": {
      "needs_background": "light"
     },
     "output_type": "display_data"
    }
   ],
   "source": [
    "sns.lmplot(x='Time per Full', y='Total Characters', data=time_correct_df, line_kws={'color': 'red'})"
   ]
  },
  {
   "cell_type": "code",
   "execution_count": 41,
   "metadata": {},
   "outputs": [
    {
     "data": {
      "text/plain": [
       "<matplotlib.axes._subplots.AxesSubplot at 0x1b6118e2fa0>"
      ]
     },
     "execution_count": 41,
     "metadata": {},
     "output_type": "execute_result"
    },
    {
     "data": {
      "image/png": "[encoded data removed]",
      "text/plain": [
       "<Figure size 432x288 with 1 Axes>"
      ]
     },
     "metadata": {
      "needs_background": "light"
     },
     "output_type": "display_data"
    }
   ],
   "source": [
    "sum_vowels = [time_correct_df['A Count'].sum(), time_correct_df['E Count'].sum(), time_correct_df['I Count'].sum(), time_correct_df['O Count'].sum(), time_correct_df['U Count'].sum()]\n",
    "new_df = pd.DataFrame({'Vowel Sums': sum_vowels, 'Vowels': ['A', 'E', 'I', 'O', 'U']})\n",
    "new_df.plot.bar('Vowels','Vowel Sums')"
   ]
  },
  {
   "cell_type": "code",
   "execution_count": null,
   "metadata": {},
   "outputs": [],
   "source": []
  }
 ],
 "metadata": {
  "kernelspec": {
   "display_name": "Python 3",
   "language": "python",
   "name": "python3"
  },
  "language_info": {
   "codemirror_mode": {
    "name": "ipython",
    "version": 3
   },
   "file_extension": ".py",
   "mimetype": "text/x-python",
   "name": "python",
   "nbconvert_exporter": "python",
   "pygments_lexer": "ipython3",
   "version": "3.8.3"
  }
 },
 "nbformat": 4,
 "nbformat_minor": 4
}
