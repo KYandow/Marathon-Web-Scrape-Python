{
 "cells": [
  {
   "cell_type": "markdown",
   "metadata": {},
   "source": [
    "# Level 4 - Requests\n",
    "\n",
    "Requests is a python package that allows you to send HTTP/1.1 requests extremely easily.\n",
    "\n",
    "HTTP stand for: `Hyper` `Text` `Transfer` `Protocol`.\n",
    "\n",
    "Communication between client computers and web servers is done by sending `HTTP Requests` and receiving `HTTP Responses`!\n",
    "\n",
    "A typical `HTTP request / response` circle looks like:\n",
    "* The browser requests an HTML page. The server returns an HTML file.\n",
    "* The browser requests a style sheet. The server returns a CSS file.\n",
    "* The browser requests an JPG image. The server returns a JPG file.\n",
    "* The browser requests JavaScript code. The server returns a JS file\n",
    "* The browser requests data. The server returns data (in XML or JSON).\n",
    "\n",
    "So, if we want to \"web scrape\", we need to be able to `request` and HTML page and then we need to be able to process the `response`.\n",
    "\n",
    "And that is where the `requests` package comes in to play!"
   ]
  },
  {
   "cell_type": "code",
   "execution_count": null,
   "metadata": {},
   "outputs": [],
   "source": [
    "import requests"
   ]
  },
  {
   "cell_type": "markdown",
   "metadata": {},
   "source": [
    "## Get the `HTML`\n",
    "\n",
    "For the `RunRocknRoll` project, we want to access tables living on the website.\n",
    "To start off, let's try requesting the URL of the website itself!"
   ]
  },
  {
   "cell_type": "code",
   "execution_count": null,
   "metadata": {},
   "outputs": [],
   "source": [
    "URL = \"https://www.runrocknroll.com/Events/Nashville/The-Races/Marathon/2016-Results\""
   ]
  },
  {
   "cell_type": "code",
   "execution_count": null,
   "metadata": {},
   "outputs": [],
   "source": [
    "response = requests.get(URL)\n",
    "response.status_code"
   ]
  },
  {
   "cell_type": "code",
   "execution_count": null,
   "metadata": {},
   "outputs": [],
   "source": [
    "# This is so we can see that the response is actually HTML and not \n",
    "# something unexpected\n",
    "response.headers[\"content-type\"]"
   ]
  },
  {
   "cell_type": "code",
   "execution_count": null,
   "metadata": {},
   "outputs": [],
   "source": [
    "response.content"
   ]
  },
  {
   "cell_type": "markdown",
   "metadata": {},
   "source": [
    "## Now, find the table!\n",
    "\n",
    "The class that we need to search for is `race-search-main`. \n",
    "The element with this class should hold the table with our data!"
   ]
  },
  {
   "cell_type": "code",
   "execution_count": null,
   "metadata": {},
   "outputs": [],
   "source": [
    "from bs4 import BeautifulSoup"
   ]
  },
  {
   "cell_type": "code",
   "execution_count": null,
   "metadata": {},
   "outputs": [],
   "source": [
    "soup = BeautifulSoup(response.content, \"html.parser\")\n",
    "soup.find(attrs={\"class\": \"race-search-main\"}) \\\n",
    "    .find(\"table\")"
   ]
  }
 ],
 "metadata": {
  "kernelspec": {
   "display_name": "Python 3",
   "language": "python",
   "name": "python3"
  },
  "language_info": {
   "codemirror_mode": {
    "name": "ipython",
    "version": 3
   },
   "file_extension": ".py",
   "mimetype": "text/x-python",
   "name": "python",
   "nbconvert_exporter": "python",
   "pygments_lexer": "ipython3",
   "version": "3.8.3"
  }
 },
 "nbformat": 4,
 "nbformat_minor": 4
}
